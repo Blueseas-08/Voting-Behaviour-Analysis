{
 "cells": [
  {
   "cell_type": "markdown",
   "id": "e6c42739-51de-44f0-80f3-2d62b3a6e15b",
   "metadata": {},
   "source": [
    "# Applied and Practical Data science\n",
    "## Team name - WSU Final\n",
    "\n",
    "### Apoorva Palle (Z248H929) , Areeba Mohiuddin (D655Y483) , Sri Manikanta Reddy Tangirala (G332B644) , Lakshmi Vasanthi Godi (V567R326)"
   ]
  },
  {
   "cell_type": "markdown",
   "id": "cb225c17-ad0b-4fc9-ac50-5ba67df68b9b",
   "metadata": {},
   "source": [
    "## Importing all the required libraryes"
   ]
  },
  {
   "cell_type": "code",
   "execution_count": 2,
   "id": "fd7e3f2b-cd57-43f7-9ba6-ce689abb9790",
   "metadata": {},
   "outputs": [],
   "source": [
    "import pandas as pd\n",
    "from sklearn.model_selection import train_test_split\n",
    "from tabulate import tabulate\n",
    "import matplotlib.pyplot as plt\n",
    "from sklearn.linear_model import LinearRegression\n",
    "from sklearn.tree import DecisionTreeRegressor\n",
    "from sklearn.ensemble import RandomForestRegressor\n",
    "from sklearn.metrics import mean_squared_error\n",
    "from sklearn.metrics import r2_score\n",
    "from sklearn.metrics import accuracy_score\n",
    "from sklearn.svm import SVC\n",
    "import seaborn as sns"
   ]
  },
  {
   "cell_type": "code",
   "execution_count": 3,
   "id": "73888ef5-58de-49dc-abcc-614c22a52989",
   "metadata": {},
   "outputs": [
    {
     "data": {
      "text/html": [
       "<div>\n",
       "<style scoped>\n",
       "    .dataframe tbody tr th:only-of-type {\n",
       "        vertical-align: middle;\n",
       "    }\n",
       "\n",
       "    .dataframe tbody tr th {\n",
       "        vertical-align: top;\n",
       "    }\n",
       "\n",
       "    .dataframe thead th {\n",
       "        text-align: right;\n",
       "    }\n",
       "</style>\n",
       "<table border=\"1\" class=\"dataframe\">\n",
       "  <thead>\n",
       "    <tr style=\"text-align: right;\">\n",
       "      <th></th>\n",
       "      <th>AGE</th>\n",
       "      <th>RELIG</th>\n",
       "      <th>CLASS</th>\n",
       "      <th>PARTYID</th>\n",
       "      <th>PRES12</th>\n",
       "      <th>Jew</th>\n",
       "      <th>OTHER</th>\n",
       "      <th>ROWNGUN</th>\n",
       "      <th>OTH16</th>\n",
       "      <th>SEI10EDUC</th>\n",
       "    </tr>\n",
       "  </thead>\n",
       "  <tbody>\n",
       "    <tr>\n",
       "      <th>0</th>\n",
       "      <td>43</td>\n",
       "      <td>11</td>\n",
       "      <td>2</td>\n",
       "      <td>5</td>\n",
       "      <td>2</td>\n",
       "      <td>0</td>\n",
       "      <td>0</td>\n",
       "      <td>0</td>\n",
       "      <td>0</td>\n",
       "      <td>82.4</td>\n",
       "    </tr>\n",
       "    <tr>\n",
       "      <th>1</th>\n",
       "      <td>74</td>\n",
       "      <td>2</td>\n",
       "      <td>2</td>\n",
       "      <td>2</td>\n",
       "      <td>1</td>\n",
       "      <td>0</td>\n",
       "      <td>0</td>\n",
       "      <td>0</td>\n",
       "      <td>0</td>\n",
       "      <td>16.5</td>\n",
       "    </tr>\n",
       "    <tr>\n",
       "      <th>2</th>\n",
       "      <td>42</td>\n",
       "      <td>4</td>\n",
       "      <td>3</td>\n",
       "      <td>4</td>\n",
       "      <td>2</td>\n",
       "      <td>0</td>\n",
       "      <td>0</td>\n",
       "      <td>0</td>\n",
       "      <td>0</td>\n",
       "      <td>89.4</td>\n",
       "    </tr>\n",
       "    <tr>\n",
       "      <th>3</th>\n",
       "      <td>63</td>\n",
       "      <td>1</td>\n",
       "      <td>3</td>\n",
       "      <td>2</td>\n",
       "      <td>2</td>\n",
       "      <td>0</td>\n",
       "      <td>0</td>\n",
       "      <td>0</td>\n",
       "      <td>0</td>\n",
       "      <td>86.7</td>\n",
       "    </tr>\n",
       "    <tr>\n",
       "      <th>4</th>\n",
       "      <td>71</td>\n",
       "      <td>2</td>\n",
       "      <td>4</td>\n",
       "      <td>6</td>\n",
       "      <td>2</td>\n",
       "      <td>0</td>\n",
       "      <td>0</td>\n",
       "      <td>1</td>\n",
       "      <td>0</td>\n",
       "      <td>79.2</td>\n",
       "    </tr>\n",
       "  </tbody>\n",
       "</table>\n",
       "</div>"
      ],
      "text/plain": [
       "   AGE  RELIG  CLASS  PARTYID  PRES12  Jew  OTHER  ROWNGUN  OTH16  SEI10EDUC\n",
       "0   43     11      2        5       2    0      0        0      0       82.4\n",
       "1   74      2      2        2       1    0      0        0      0       16.5\n",
       "2   42      4      3        4       2    0      0        0      0       89.4\n",
       "3   63      1      3        2       2    0      0        0      0       86.7\n",
       "4   71      2      4        6       2    0      0        1      0       79.2"
      ]
     },
     "execution_count": 3,
     "metadata": {},
     "output_type": "execute_result"
    }
   ],
   "source": [
    "df = pd.read_csv(\"C:\\\\Users\\\\Aneesh Reddy\\\\OneDrive\\\\Desktop\\\\appu ads EDA\\\\GSS2018_values.csv\")\n",
    "\n",
    "AGE = df['AGE']\n",
    "RELIG = df['RELIG']\n",
    "CLASS = df['CLASS']\n",
    "PARTYID = df['PARTYID']\n",
    "PRES12 = df['PRES12']\n",
    "Jew = df['Jew']\n",
    "OTHER = df['OTHER']\n",
    "ROWNGUN = df['ROWNGUN']\n",
    "OTH16 = df['OTH16']\n",
    "SEI10EDUC = df['SEI10EDUC']\n",
    "PRES16 = df['PRES16']\n",
    "X = pd.DataFrame({\n",
    "    'AGE': AGE,\n",
    "    'RELIG': RELIG,\n",
    "    'CLASS': CLASS,\n",
    "    'PARTYID': PARTYID,\n",
    "    'PRES12': PRES12,\n",
    "    'Jew': Jew,\n",
    "    'OTHER': OTHER,\n",
    "    'ROWNGUN': ROWNGUN,\n",
    "    'OTH16': OTH16,\n",
    "    'SEI10EDUC': SEI10EDUC\n",
    "})\n",
    "y = PRES16\n",
    "X.head()"
   ]
  },
  {
   "cell_type": "markdown",
   "id": "d0adc1b0-8289-4de3-8a60-2e2b74a36a63",
   "metadata": {},
   "source": [
    "### Splitting the data into testing and training data sets"
   ]
  },
  {
   "cell_type": "code",
   "execution_count": 4,
   "id": "e3767b7e-28fc-4ec0-9f4b-f442c6b1babc",
   "metadata": {},
   "outputs": [],
   "source": [
    "X_train, X_test, y_train, y_test = train_test_split(X, y, test_size=0.2, random_state=0)"
   ]
  },
  {
   "cell_type": "markdown",
   "id": "c1d834ca-2809-464c-aa5b-998e84b70754",
   "metadata": {},
   "source": [
    "## Model Selection "
   ]
  },
  {
   "cell_type": "markdown",
   "id": "fa411408-660d-4e3e-90fb-20d78a6cb6c8",
   "metadata": {},
   "source": [
    "## Decision Tree Regression model"
   ]
  },
  {
   "cell_type": "code",
   "execution_count": 5,
   "id": "205b13e4-6472-42fd-aeb9-03455f0072aa",
   "metadata": {},
   "outputs": [],
   "source": [
    "decisionTree_model = DecisionTreeRegressor()\n",
    "decisionTree_model.fit(X_train, y_train)\n",
    "D_pred = decisionTree_model.predict(X_test)"
   ]
  },
  {
   "cell_type": "markdown",
   "id": "59eda833-1fac-43c6-9b1c-f3e4c4e1a768",
   "metadata": {},
   "source": [
    "### calculating R-squared score and mean square error for the Decision Tree Regression"
   ]
  },
  {
   "cell_type": "code",
   "execution_count": 6,
   "id": "919bb0af-7f3f-4d8a-80b2-9298a3a0975e",
   "metadata": {},
   "outputs": [
    {
     "name": "stdout",
     "output_type": "stream",
     "text": [
      "Accuracy: 0.6127659574468085\n",
      "Accuracy percent : 61.27659574468085\n",
      "decisionTree_model R-squared score is  -0.32734956717060126\n"
     ]
    }
   ],
   "source": [
    "a_DTR = accuracy_score(y_test, D_pred)\n",
    "print(\"Accuracy:\", a_DTR)\n",
    "print(\"Accuracy percent :\", a_DTR*100)\n",
    "r2_D = r2_score(y_test, D_pred)\n",
    "print(\"decisionTree_model R-squared score is \" , r2_D)\n"
   ]
  },
  {
   "cell_type": "markdown",
   "id": "eceb5c2b-174c-413e-9ee4-53e880340a41",
   "metadata": {},
   "source": [
    "### Support Vector Machine"
   ]
  },
  {
   "cell_type": "code",
   "execution_count": 7,
   "id": "135b42c9-213f-4ad4-a21e-0a2968023116",
   "metadata": {},
   "outputs": [],
   "source": [
    "SVM_model = SVC(kernel='linear', random_state=42)\n",
    "SVM_model.fit(X_train, y_train)\n",
    "S_pred = SVM_model.predict(X_test)"
   ]
  },
  {
   "cell_type": "markdown",
   "id": "1471921d-ee35-4af0-b83d-a478ff8eea86",
   "metadata": {},
   "source": [
    "### calculating R-squared score and mean square error for SVM"
   ]
  },
  {
   "cell_type": "code",
   "execution_count": 8,
   "id": "6a0f6b50-c1b6-4110-9e1c-0b2393bc8f64",
   "metadata": {},
   "outputs": [
    {
     "name": "stdout",
     "output_type": "stream",
     "text": [
      "Accuracy: 0.7297872340425532\n",
      "Accuracy percent : 72.97872340425532\n",
      "SVM R-squared score is  0.2647734482683177\n"
     ]
    }
   ],
   "source": [
    "a_svm = accuracy_score(y_test, S_pred)\n",
    "print(\"Accuracy:\", a_svm)\n",
    "print(\"Accuracy percent :\", a_svm*100)\n",
    "r2_S = r2_score(y_test, S_pred)\n",
    "print(\"SVM R-squared score is \" , r2_S)"
   ]
  },
  {
   "cell_type": "markdown",
   "id": "c822c7dd-0df1-4960-817d-676d1e49bbf6",
   "metadata": {},
   "source": [
    "### By calculating the Accuracy and R-squared score, we can say that the Support Vector Machine is the best fit for our data set as we can see that the Accuracy percent and R-squared score are high when compared to Decision Tree Regression model."
   ]
  },
  {
   "cell_type": "markdown",
   "id": "124fe5a9-a112-42a5-b6eb-8bf97209774a",
   "metadata": {},
   "source": [
    "### Visualization Showing and Comparing Accuracy and R-squared score of the models"
   ]
  },
  {
   "cell_type": "code",
   "execution_count": 9,
   "id": "01913e79-efb4-44aa-ae17-862c0c21a4cc",
   "metadata": {},
   "outputs": [
    {
     "data": {
      "image/png": "[encoded data removed]",
      "text/plain": [
       "<Figure size 800x400 with 1 Axes>"
      ]
     },
     "metadata": {},
     "output_type": "display_data"
    },
    {
     "data": {
      "image/png": "[encoded data removed]",
      "text/plain": [
       "<Figure size 800x400 with 1 Axes>"
      ]
     },
     "metadata": {},
     "output_type": "display_data"
    }
   ],
   "source": [
    "models = ['decisionTree_model', 'SVM_model']\n",
    "accuracy_values = [61.91,72.97]  \n",
    "r2_values = [-0.27,0.26]\n",
    "\n",
    "# Plotting the MSE values\n",
    "plt.figure(figsize=(8 , 4))\n",
    "plt.bar(models, accuracy_values, color='#EC232B')\n",
    "plt.xlabel('Models')\n",
    "plt.ylabel('Accuracy%')\n",
    "plt.title('Accuracy comparisison')\n",
    "plt.show()\n",
    "\n",
    "# Plotting the R-squared score\n",
    "plt.figure(figsize=(8, 4))\n",
    "plt.bar(models, r2_values, color='#0E4572')\n",
    "plt.xlabel('Models')\n",
    "plt.ylabel('R-squared score')\n",
    "plt.title('R-squared score comparisison')\n",
    "plt.show()\n"
   ]
  },
  {
   "cell_type": "markdown",
   "id": "7f1791f2-8294-42f7-9645-b4dc301dc1e0",
   "metadata": {},
   "source": [
    "### Accuracy and R-squared of SVM"
   ]
  },
  {
   "cell_type": "code",
   "execution_count": 10,
   "id": "274c3b2b-2897-4278-a662-24dd487cd299",
   "metadata": {},
   "outputs": [
    {
     "name": "stdout",
     "output_type": "stream",
     "text": [
      "Accuracy of SVM is  72.97872340425532\n",
      "R-squared score of SVM is  0.2647734482683177\n"
     ]
    }
   ],
   "source": [
    "print(\"Accuracy of SVM is \" , a_svm*100)\n",
    "print(\"R-squared score of SVM is \" , r2_S)"
   ]
  }
 ],
 "metadata": {
  "kernelspec": {
   "display_name": "Python 3 (ipykernel)",
   "language": "python",
   "name": "python3"
  },
  "language_info": {
   "codemirror_mode": {
    "name": "ipython",
    "version": 3
   },
   "file_extension": ".py",
   "mimetype": "text/x-python",
   "name": "python",
   "nbconvert_exporter": "python",
   "pygments_lexer": "ipython3",
   "version": "3.10.8"
  }
 },
 "nbformat": 4,
 "nbformat_minor": 5
}
